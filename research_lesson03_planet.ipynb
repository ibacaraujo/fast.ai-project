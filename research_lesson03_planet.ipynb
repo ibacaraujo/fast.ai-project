{
  "nbformat": 4,
  "nbformat_minor": 0,
  "metadata": {
    "colab": {
      "name": "research_lesson03_planet.ipynb",
      "version": "0.3.2",
      "provenance": [],
      "collapsed_sections": [],
      "include_colab_link": true
    },
    "kernelspec": {
      "name": "python3",
      "display_name": "Python 3"
    },
    "accelerator": "GPU"
  },
  "cells": [
    {
      "cell_type": "markdown",
      "metadata": {
        "id": "view-in-github",
        "colab_type": "text"
      },
      "source": [
        "<a href=\"https://colab.research.google.com/github/ibacaraujo/fastai-research/blob/master/research_lesson03_planet.ipynb\" target=\"_parent\"><img src=\"https://colab.research.google.com/assets/colab-badge.svg\" alt=\"Open In Colab\"/></a>"
      ]
    },
    {
      "cell_type": "markdown",
      "metadata": {
        "id": "OeZJNahALJDi",
        "colab_type": "text"
      },
      "source": [
        "# Research and development predicated on Lesson 03. Multi-label prediction with Planet Amazon dataset."
      ]
    },
    {
      "cell_type": "code",
      "metadata": {
        "id": "Ljvaqhp7LBA7",
        "colab_type": "code",
        "colab": {
          "base_uri": "https://localhost:8080/",
          "height": 35
        },
        "outputId": "0f485086-ba24-4377-896d-2cf69688bc15"
      },
      "source": [
        "import fastai\n",
        "fastai.__version__"
      ],
      "execution_count": 1,
      "outputs": [
        {
          "output_type": "execute_result",
          "data": {
            "text/plain": [
              "'1.0.52'"
            ]
          },
          "metadata": {
            "tags": []
          },
          "execution_count": 1
        }
      ]
    },
    {
      "cell_type": "code",
      "metadata": {
        "id": "-_oxd7Y-P40Q",
        "colab_type": "code",
        "colab": {
          "base_uri": "https://localhost:8080/",
          "height": 127
        },
        "outputId": "8ab69a8d-d13f-4c64-aec4-d8287d518a09"
      },
      "source": [
        "from google.colab import drive\n",
        "drive.mount('/content/gdrive/', force_remount=True)\n",
        "root_dir = '/content/gdrive/My Drive/'\n",
        "base_dir = root_dir + 'fastai_research/'"
      ],
      "execution_count": 5,
      "outputs": [
        {
          "output_type": "stream",
          "text": [
            "Go to this URL in a browser: https://accounts.google.com/o/oauth2/auth?client_id=947318989803-6bn6qk8qdgf4n4g3pfee6491hc0brc4i.apps.googleusercontent.com&redirect_uri=urn%3Aietf%3Awg%3Aoauth%3A2.0%3Aoob&scope=email%20https%3A%2F%2Fwww.googleapis.com%2Fauth%2Fdocs.test%20https%3A%2F%2Fwww.googleapis.com%2Fauth%2Fdrive%20https%3A%2F%2Fwww.googleapis.com%2Fauth%2Fdrive.photos.readonly%20https%3A%2F%2Fwww.googleapis.com%2Fauth%2Fpeopleapi.readonly&response_type=code\n",
            "\n",
            "Enter your authorization code:\n",
            "··········\n",
            "Mounted at /content/gdrive/\n"
          ],
          "name": "stdout"
        }
      ]
    },
    {
      "cell_type": "code",
      "metadata": {
        "id": "Di3YASYWLk4o",
        "colab_type": "code",
        "colab": {}
      },
      "source": [
        "%reload_ext autoreload\n",
        "%autoreload 2\n",
        "%matplotlib inline"
      ],
      "execution_count": 0,
      "outputs": []
    },
    {
      "cell_type": "code",
      "metadata": {
        "id": "S2X0qX4dLix0",
        "colab_type": "code",
        "colab": {}
      },
      "source": [
        "from fastai.vision import *"
      ],
      "execution_count": 0,
      "outputs": []
    },
    {
      "cell_type": "markdown",
      "metadata": {
        "id": "cafTcWN_L5WX",
        "colab_type": "text"
      },
      "source": [
        "## Getting the data\n",
        "\n",
        "I will work with the Planet Amazon dataset following the lesson. Important concepts to learn. Besides, the dataset has some relationship with the kind of dataset that I have been working with on my master's degree."
      ]
    },
    {
      "cell_type": "code",
      "metadata": {
        "id": "Z1_BbY2bMDeV",
        "colab_type": "code",
        "colab": {
          "base_uri": "https://localhost:8080/",
          "height": 235
        },
        "outputId": "e6d693b2-3c00-4fae-d86c-512f81aaf985"
      },
      "source": [
        "# install Kaggle API to get the Planet Amazon dataset\n",
        "! pip install kaggle --upgrade"
      ],
      "execution_count": 4,
      "outputs": [
        {
          "output_type": "stream",
          "text": [
            "Requirement already up-to-date: kaggle in /usr/local/lib/python3.6/dist-packages (1.5.3)\n",
            "Requirement already satisfied, skipping upgrade: six>=1.10 in /usr/local/lib/python3.6/dist-packages (from kaggle) (1.12.0)\n",
            "Requirement already satisfied, skipping upgrade: python-dateutil in /usr/local/lib/python3.6/dist-packages (from kaggle) (2.5.3)\n",
            "Requirement already satisfied, skipping upgrade: python-slugify in /usr/local/lib/python3.6/dist-packages (from kaggle) (3.0.2)\n",
            "Requirement already satisfied, skipping upgrade: urllib3<1.25,>=1.21.1 in /usr/local/lib/python3.6/dist-packages (from kaggle) (1.24.3)\n",
            "Requirement already satisfied, skipping upgrade: certifi in /usr/local/lib/python3.6/dist-packages (from kaggle) (2019.3.9)\n",
            "Requirement already satisfied, skipping upgrade: requests in /usr/local/lib/python3.6/dist-packages (from kaggle) (2.21.0)\n",
            "Requirement already satisfied, skipping upgrade: tqdm in /usr/local/lib/python3.6/dist-packages (from kaggle) (4.28.1)\n",
            "Requirement already satisfied, skipping upgrade: text-unidecode==1.2 in /usr/local/lib/python3.6/dist-packages (from python-slugify->kaggle) (1.2)\n",
            "Requirement already satisfied, skipping upgrade: chardet<3.1.0,>=3.0.2 in /usr/local/lib/python3.6/dist-packages (from requests->kaggle) (3.0.4)\n",
            "Requirement already satisfied, skipping upgrade: idna<2.9,>=2.5 in /usr/local/lib/python3.6/dist-packages (from requests->kaggle) (2.8)\n"
          ],
          "name": "stdout"
        }
      ]
    },
    {
      "cell_type": "code",
      "metadata": {
        "id": "BsJJvBXgQsDO",
        "colab_type": "code",
        "colab": {}
      },
      "source": [
        "#! mkdir -p ~/.kaggle/\n",
        "#! mv kaggle.json ~/.kaggle/"
      ],
      "execution_count": 0,
      "outputs": []
    },
    {
      "cell_type": "code",
      "metadata": {
        "id": "nGVyPDeiQz1F",
        "colab_type": "code",
        "colab": {}
      },
      "source": [
        "#path = Config.data_path()/'planet'\n",
        "#path.mkdir(parents=True, exist_ok=True)\n",
        "#path"
      ],
      "execution_count": 0,
      "outputs": []
    },
    {
      "cell_type": "code",
      "metadata": {
        "id": "Gy97UGuYRihD",
        "colab_type": "code",
        "colab": {}
      },
      "source": [
        "#! kaggle competitions download -c planet-understanding-the-amazon-from-space -f train-jpg.tar.7z -p {base_dir+'/datasets/planet/'}\n",
        "#! kaggle competitions download -c planet-understanding-the-amazong-from-space -f train_v2.csv -p {base_dir+'/datasets/planet/'}"
      ],
      "execution_count": 0,
      "outputs": []
    },
    {
      "cell_type": "code",
      "metadata": {
        "id": "wAB5CG9AUx5c",
        "colab_type": "code",
        "colab": {}
      },
      "source": [
        "# ! conda install -y -c haasad eidl7zip"
      ],
      "execution_count": 0,
      "outputs": []
    },
    {
      "cell_type": "code",
      "metadata": {
        "id": "Fz7KHxPIUyjE",
        "colab_type": "code",
        "colab": {}
      },
      "source": [
        "# ! 7za -bd -y -so x {path}/train-jpg.tar.7z | tar xf - -C {path.as_posix()}"
      ],
      "execution_count": 0,
      "outputs": []
    },
    {
      "cell_type": "markdown",
      "metadata": {
        "id": "8sRRlxMRUz9u",
        "colab_type": "text"
      },
      "source": [
        "So, the above commented lines are the commands to configure your environment to use Kaggle API and download the Planet Amazon dataset. As I am using Colab, I did it outside and I will upload then the files in Drive."
      ]
    },
    {
      "cell_type": "markdown",
      "metadata": {
        "id": "vzFWyLhDiNOL",
        "colab_type": "text"
      },
      "source": [
        "To continue, boy! Space requirement for the dataset, 34 GB, too high. Trying to work on Kaggle Kernels, but facing failure when loading the data. Let's move forward!"
      ]
    }
  ]
}