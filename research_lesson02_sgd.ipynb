{
  "nbformat": 4,
  "nbformat_minor": 0,
  "metadata": {
    "colab": {
      "name": "research_lesson02_sgd.ipynb",
      "version": "0.3.2",
      "provenance": [],
      "collapsed_sections": [],
      "include_colab_link": true
    },
    "kernelspec": {
      "name": "python3",
      "display_name": "Python 3"
    }
  },
  "cells": [
    {
      "cell_type": "markdown",
      "metadata": {
        "id": "view-in-github",
        "colab_type": "text"
      },
      "source": [
        "<a href=\"https://colab.research.google.com/github/ibacaraujo/fastai-research/blob/master/research_lesson02_sgd.ipynb\" target=\"_parent\"><img src=\"https://colab.research.google.com/assets/colab-badge.svg\" alt=\"Open In Colab\"/></a>"
      ]
    },
    {
      "cell_type": "markdown",
      "metadata": {
        "id": "ymgNYJiJOwsp",
        "colab_type": "text"
      },
      "source": [
        "# Research and development predicated on Lesson 02. Stochastic Gradient Descent."
      ]
    },
    {
      "cell_type": "code",
      "metadata": {
        "id": "_WKQjqXOOt8c",
        "colab_type": "code",
        "colab": {
          "base_uri": "https://localhost:8080/",
          "height": 35
        },
        "outputId": "b3004f9c-0509-4a37-c300-69f2de4c3cc8"
      },
      "source": [
        "import fastai\n",
        "fastai.__version__"
      ],
      "execution_count": 1,
      "outputs": [
        {
          "output_type": "execute_result",
          "data": {
            "text/plain": [
              "'1.0.52'"
            ]
          },
          "metadata": {
            "tags": []
          },
          "execution_count": 1
        }
      ]
    },
    {
      "cell_type": "code",
      "metadata": {
        "id": "Y1JCctaUPBqc",
        "colab_type": "code",
        "colab": {}
      },
      "source": [
        "%matplotlib inline\n",
        "from fastai.basics import *"
      ],
      "execution_count": 0,
      "outputs": []
    },
    {
      "cell_type": "markdown",
      "metadata": {
        "id": "cSgl-tfuPJ6r",
        "colab_type": "text"
      },
      "source": [
        "This notebook is all about Stochastic Gradient Descent (SGD), an optimization method commonly used in neural networks. Let's work on it with examples."
      ]
    },
    {
      "cell_type": "markdown",
      "metadata": {
        "id": "kxL9DUNsPYip",
        "colab_type": "text"
      },
      "source": [
        "## Linear Regression problem.\n",
        "\n",
        "The goal of linear regression is to fit a line to a set of points."
      ]
    },
    {
      "cell_type": "code",
      "metadata": {
        "id": "swQL44tuPYFw",
        "colab_type": "code",
        "colab": {}
      },
      "source": [
        "n = 100 # the number of points"
      ],
      "execution_count": 0,
      "outputs": []
    },
    {
      "cell_type": "code",
      "metadata": {
        "id": "eAaaCYTsPlrp",
        "colab_type": "code",
        "colab": {}
      },
      "source": [
        "x = torch.ones(n,2) # we create a tensor of ones with shape (n,2)\n",
        "x[:,0].uniform_(-1,1); # we update all lines in first column"
      ],
      "execution_count": 0,
      "outputs": []
    },
    {
      "cell_type": "code",
      "metadata": {
        "id": "K51o2p1PQGzJ",
        "colab_type": "code",
        "colab": {
          "base_uri": "https://localhost:8080/",
          "height": 107
        },
        "outputId": "953630e5-beed-4013-f556-949942dd7ca6"
      },
      "source": [
        "x[:5] # to show the first five rows"
      ],
      "execution_count": 7,
      "outputs": [
        {
          "output_type": "execute_result",
          "data": {
            "text/plain": [
              "tensor([[-0.9596,  1.0000],\n",
              "        [ 0.0554,  1.0000],\n",
              "        [ 0.5836,  1.0000],\n",
              "        [-0.0176,  1.0000],\n",
              "        [ 0.0530,  1.0000]])"
            ]
          },
          "metadata": {
            "tags": []
          },
          "execution_count": 7
        }
      ]
    },
    {
      "cell_type": "code",
      "metadata": {
        "id": "Ipttlp7rQLxK",
        "colab_type": "code",
        "colab": {
          "base_uri": "https://localhost:8080/",
          "height": 35
        },
        "outputId": "338454ab-33a8-4b13-f1e8-2e9cdbd082c3"
      },
      "source": [
        "a = tensor(3.,2) # create a tensor with 1 row and 2 columns with these values\n",
        "a"
      ],
      "execution_count": 9,
      "outputs": [
        {
          "output_type": "execute_result",
          "data": {
            "text/plain": [
              "tensor([3., 2.])"
            ]
          },
          "metadata": {
            "tags": []
          },
          "execution_count": 9
        }
      ]
    },
    {
      "cell_type": "code",
      "metadata": {
        "id": "ybbXhqQ6QZed",
        "colab_type": "code",
        "colab": {
          "base_uri": "https://localhost:8080/",
          "height": 251
        },
        "outputId": "a1565f55-2eda-45f0-a80b-702554f211cc"
      },
      "source": [
        "torch.randn(n) # return a tensor with n numbers randomly between (-1,1)"
      ],
      "execution_count": 11,
      "outputs": [
        {
          "output_type": "execute_result",
          "data": {
            "text/plain": [
              "tensor([-2.0866, -2.1040, -0.1029,  0.4389,  0.0104,  2.0791, -1.0971,  1.9612,\n",
              "        -0.9189,  0.2691, -0.8158, -0.4096,  1.4056, -0.7664, -1.7934, -0.4117,\n",
              "        -0.3384, -1.0379,  0.5055, -0.2547, -1.4074, -1.3561,  0.3061, -0.6237,\n",
              "         0.3416,  0.9099, -0.3938, -1.0853,  0.1240, -0.2561,  0.5049, -2.0240,\n",
              "         0.2520,  0.3577,  1.1830,  1.6309, -0.3706, -0.9066,  0.4588, -1.0106,\n",
              "        -1.1270, -1.5307,  0.6425,  0.1563,  1.5607,  1.7366, -1.4265,  0.7547,\n",
              "        -0.1006,  0.8458, -0.7318,  0.1554,  0.2615,  0.7328,  0.1399,  0.1335,\n",
              "         0.5842,  2.0645,  0.5423,  1.6041, -0.4475,  1.2408, -0.0699,  0.3065,\n",
              "         0.9420, -0.7875,  0.0984,  0.6746,  0.1049,  0.3509, -0.2987, -0.4933,\n",
              "         0.9784,  0.4750,  0.2842, -1.1418, -0.8085,  0.7865, -0.6896,  1.3654,\n",
              "         0.1717, -0.2926,  0.2463, -1.3031,  0.0875,  0.2576, -0.6069, -0.6615,\n",
              "         0.0814,  0.5619, -0.1863, -0.2728,  0.2692,  0.5757, -1.0127, -0.8221,\n",
              "        -0.1078, -0.5866,  0.8772, -0.7555])"
            ]
          },
          "metadata": {
            "tags": []
          },
          "execution_count": 11
        }
      ]
    },
    {
      "cell_type": "code",
      "metadata": {
        "id": "FaM_NhDOQsdP",
        "colab_type": "code",
        "colab": {
          "base_uri": "https://localhost:8080/",
          "height": 35
        },
        "outputId": "f5a0ea5d-2a78-4dbb-fa98-0459d9e22fee"
      },
      "source": [
        "# let's define now a dependent variable y in terms of x and a and a noise\n",
        "y = x@a + torch.randn(n)\n",
        "# the shape of y is [100] given (n,2) x (2, 1) = (n, 1)\n",
        "y.shape"
      ],
      "execution_count": 20,
      "outputs": [
        {
          "output_type": "execute_result",
          "data": {
            "text/plain": [
              "torch.Size([100])"
            ]
          },
          "metadata": {
            "tags": []
          },
          "execution_count": 20
        }
      ]
    },
    {
      "cell_type": "code",
      "metadata": {
        "id": "CCreFevmQ40E",
        "colab_type": "code",
        "colab": {
          "base_uri": "https://localhost:8080/",
          "height": 35
        },
        "outputId": "76f179b3-d8ad-49b0-c589-6d543ede661c"
      },
      "source": [
        "y[:5] # show the first five vlaues"
      ],
      "execution_count": 22,
      "outputs": [
        {
          "output_type": "execute_result",
          "data": {
            "text/plain": [
              "tensor([-1.6678,  1.7488,  5.2792,  1.6941,  2.3979])"
            ]
          },
          "metadata": {
            "tags": []
          },
          "execution_count": 22
        }
      ]
    },
    {
      "cell_type": "code",
      "metadata": {
        "id": "9K_W4LD9RW6L",
        "colab_type": "code",
        "colab": {
          "base_uri": "https://localhost:8080/",
          "height": 269
        },
        "outputId": "1168525a-e01b-48a1-eecb-9e8fa98de0af"
      },
      "source": [
        "plt.scatter(x[:,0], y); # plot x0 with y"
      ],
      "execution_count": 23,
      "outputs": [
        {
          "output_type": "display_data",
          "data": {
            "image/png": "[encoded data removed]",
            "text/plain": [
              "<Figure size 432x288 with 1 Axes>"
            ]
          },
          "metadata": {
            "tags": []
          }
        }
      ]
    },
    {
      "cell_type": "markdown",
      "metadata": {
        "id": "FHyhJZMpRidO",
        "colab_type": "text"
      },
      "source": [
        "Given that context and plot, we want to find **parameters** (weights) *a* such that we minimize the *error* between the points from ```x``` and ```y```. Note that here *a* is unknown. For a regression problem the most common *error function* or *loss function* is the **mean squared error**. "
      ]
    },
    {
      "cell_type": "code",
      "metadata": {
        "id": "ZdiygjdWSJ9f",
        "colab_type": "code",
        "colab": {}
      },
      "source": [
        "# define the mean squared error function\n",
        "def mse(y_hat, y):\n",
        "  return ((y_hat - y)**2).mean()"
      ],
      "execution_count": 0,
      "outputs": []
    },
    {
      "cell_type": "markdown",
      "metadata": {
        "id": "jrOdduh-STpW",
        "colab_type": "text"
      },
      "source": [
        "Suppose that we think ```a = tensor(-1.,1)``` then we can compute y_hat, which is our *prediction*, and then compute our error."
      ]
    },
    {
      "cell_type": "code",
      "metadata": {
        "id": "UHNV9iUKSSGT",
        "colab_type": "code",
        "colab": {}
      },
      "source": [
        "a = tensor(-1.,1) # supposed a"
      ],
      "execution_count": 0,
      "outputs": []
    },
    {
      "cell_type": "code",
      "metadata": {
        "id": "BelEa53ZSjw4",
        "colab_type": "code",
        "colab": {}
      },
      "source": [
        "y_hat = x@a # our prediction"
      ],
      "execution_count": 0,
      "outputs": []
    },
    {
      "cell_type": "code",
      "metadata": {
        "id": "4v9wGENeSphg",
        "colab_type": "code",
        "colab": {
          "base_uri": "https://localhost:8080/",
          "height": 35
        },
        "outputId": "4e8468c1-0f3b-4e46-c97f-66aa97cbfa08"
      },
      "source": [
        "error = mse(y_hat, y); error # the error"
      ],
      "execution_count": 32,
      "outputs": [
        {
          "output_type": "execute_result",
          "data": {
            "text/plain": [
              "tensor(8.4229)"
            ]
          },
          "metadata": {
            "tags": []
          },
          "execution_count": 32
        }
      ]
    },
    {
      "cell_type": "markdown",
      "metadata": {
        "id": "JB3gnwJtTNa4",
        "colab_type": "text"
      },
      "source": [
        "Let's plot the feature x0 with the true answer y and the feature x0 with the prediction y_hat."
      ]
    },
    {
      "cell_type": "code",
      "metadata": {
        "id": "votc5XLYTiKC",
        "colab_type": "code",
        "colab": {
          "base_uri": "https://localhost:8080/",
          "height": 287
        },
        "outputId": "8e484a30-4fa7-489a-b3e2-b6d5685b8e04"
      },
      "source": [
        "plt.scatter(x[:,0], y)\n",
        "plt.scatter(x[:,0], y_hat)"
      ],
      "execution_count": 33,
      "outputs": [
        {
          "output_type": "execute_result",
          "data": {
            "text/plain": [
              "<matplotlib.collections.PathCollection at 0x7fbd2bebd898>"
            ]
          },
          "metadata": {
            "tags": []
          },
          "execution_count": 33
        },
        {
          "output_type": "display_data",
          "data": {
            "image/png": "[encoded data removed]",
            "text/plain": [
              "<Figure size 432x288 with 1 Axes>"
            ]
          },
          "metadata": {
            "tags": []
          }
        }
      ]
    },
    {
      "cell_type": "markdown",
      "metadata": {
        "id": "ccix1DSITogK",
        "colab_type": "text"
      },
      "source": [
        "So far we have specified the *model* (linear regression) and the *evaluation criteria* or *loss function* (mean squared error). Now we need to handle the *optimization*, that is, how do we find the best values for ```a```. How do we find the best *fitting* linear regression."
      ]
    },
    {
      "cell_type": "markdown",
      "metadata": {
        "id": "AA1zycSQT_yX",
        "colab_type": "text"
      },
      "source": [
        "## Gradient Descent\n",
        "\n",
        "We would like to find values to minimize the mean squared error loss.\n",
        "\n",
        "**Gradient descent** is an algorithm that minimizes functions. Given a function defined by a set of parameters, gradient descent starts with an initial set of parameter values and iteratively moves toward a set of parameter values that minimize the function. This iterative minimization is achieved by taking steps in the negative direction of the function gradient."
      ]
    },
    {
      "cell_type": "markdown",
      "metadata": {
        "id": "ntF1NmWJUdW4",
        "colab_type": "text"
      },
      "source": [
        "Let's use PyTorch to implement the operation of updating parameters to improve the results with the minimization of the error."
      ]
    },
    {
      "cell_type": "code",
      "metadata": {
        "id": "6U3jEhOsT-_a",
        "colab_type": "code",
        "colab": {
          "base_uri": "https://localhost:8080/",
          "height": 53
        },
        "outputId": "8e0e8e34-50dc-4c63-efd6-bc5f3af6a975"
      },
      "source": [
        "a = nn.Parameter(a); a # we convert a to be a Parameter, so it has grad function"
      ],
      "execution_count": 34,
      "outputs": [
        {
          "output_type": "execute_result",
          "data": {
            "text/plain": [
              "Parameter containing:\n",
              "tensor([-1.,  1.], requires_grad=True)"
            ]
          },
          "metadata": {
            "tags": []
          },
          "execution_count": 34
        }
      ]
    },
    {
      "cell_type": "code",
      "metadata": {
        "id": "hp5pgXREU3aj",
        "colab_type": "code",
        "colab": {}
      },
      "source": [
        "def update():\n",
        "  y_hat = x@a\n",
        "  loss = mse(y_hat, y)\n",
        "  if t % 10 == 0: print(loss)\n",
        "  loss.backward()\n",
        "  with torch.no_grad():\n",
        "    a.sub_(lr*a.grad)\n",
        "    a.grad.zero_()"
      ],
      "execution_count": 0,
      "outputs": []
    },
    {
      "cell_type": "code",
      "metadata": {
        "id": "EMd66xjNVNx3",
        "colab_type": "code",
        "colab": {
          "base_uri": "https://localhost:8080/",
          "height": 197
        },
        "outputId": "27efe7ee-410e-4921-9190-d84c7827db08"
      },
      "source": [
        "lr = 1e-1\n",
        "for t in range(100):\n",
        "  update()"
      ],
      "execution_count": 36,
      "outputs": [
        {
          "output_type": "stream",
          "text": [
            "tensor(8.4229, grad_fn=<MeanBackward0>)\n",
            "tensor(2.4507, grad_fn=<MeanBackward0>)\n",
            "tensor(1.3841, grad_fn=<MeanBackward0>)\n",
            "tensor(1.1071, grad_fn=<MeanBackward0>)\n",
            "tensor(1.0338, grad_fn=<MeanBackward0>)\n",
            "tensor(1.0143, grad_fn=<MeanBackward0>)\n",
            "tensor(1.0092, grad_fn=<MeanBackward0>)\n",
            "tensor(1.0078, grad_fn=<MeanBackward0>)\n",
            "tensor(1.0074, grad_fn=<MeanBackward0>)\n",
            "tensor(1.0073, grad_fn=<MeanBackward0>)\n"
          ],
          "name": "stdout"
        }
      ]
    },
    {
      "cell_type": "code",
      "metadata": {
        "id": "kHHlTxuAVXS0",
        "colab_type": "code",
        "colab": {
          "base_uri": "https://localhost:8080/",
          "height": 287
        },
        "outputId": "634f4ea1-8812-45fd-af11-c92c5bc0b686"
      },
      "source": [
        "# let's plot the new predictions\n",
        "plt.scatter(x[:,0], y)\n",
        "plt.scatter(x[:,0], x@a)"
      ],
      "execution_count": 37,
      "outputs": [
        {
          "output_type": "execute_result",
          "data": {
            "text/plain": [
              "<matplotlib.collections.PathCollection at 0x7fbd2bea5518>"
            ]
          },
          "metadata": {
            "tags": []
          },
          "execution_count": 37
        },
        {
          "output_type": "display_data",
          "data": {
            "image/png": "[encoded data removed]",
            "text/plain": [
              "<Figure size 432x288 with 1 Axes>"
            ]
          },
          "metadata": {
            "tags": []
          }
        }
      ]
    },
    {
      "cell_type": "markdown",
      "metadata": {
        "id": "fm-mM0MwVkHo",
        "colab_type": "text"
      },
      "source": [
        "Great! In practice, we don't calculate on the whole file at once, but we use *mini-batches*."
      ]
    },
    {
      "cell_type": "markdown",
      "metadata": {
        "id": "W8JuHB4qVq7_",
        "colab_type": "text"
      },
      "source": [
        "For classification problems, we use *cross-entropy loss*, also known as *negative log likelihood loss*. This penalizes incorrect confident predictions, and correct unconfident predictions."
      ]
    }
  ]
}